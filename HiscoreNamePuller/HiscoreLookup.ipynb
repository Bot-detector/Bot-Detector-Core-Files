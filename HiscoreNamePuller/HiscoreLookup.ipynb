{
 "cells": [
  {
   "cell_type": "code",
   "execution_count": 1,
   "metadata": {},
   "outputs": [
    {
     "name": "stdout",
     "output_type": "stream",
     "text": [
      "New player name: Senepel\n",
      "\n",
      "Pass Rate: 75.7 % | Pass: 12868 | Fail: 4141 | Total: 17009 | Total in File: 18456 | Completed: 92.16 %\n",
      "Total Time: 74917 | Estimated Time: 81290 | Remaining Time 6373\n",
      "http://services.runescape.com/m=hiscore_oldschool/index_lite.ws?player=Senepel\n",
      "\n"
     ]
    }
   ],
   "source": [
    "#Author RSN: FERRARIIC 2/7/2021\n",
    "\n",
    "import numpy as np\n",
    "import re\n",
    "import pandas as pd\n",
    "import matplotlib.pyplot as plt\n",
    "import pickle\n",
    "import time\n",
    "import os\n",
    "import urllib \n",
    "from urllib import request\n",
    "import requests\n",
    "from IPython.display import clear_output\n",
    "########################################################################################\n",
    "\n",
    "MAIN = \"http://services.runescape.com/m=hiscore_oldschool/index_lite.ws?player=\" #main source url\n",
    "DATADIR = \"C:\\Datasets\\OSRSPlayerlist\\CLEANFULL.txt\" #Filename for player names \n",
    "\n",
    "fRAW = open(DATADIR, \"rt\") #opens raw bot file\n",
    "fCLEAN = open(\"CLEAN.txt\", \"wt\") #starts new bot file type\n",
    "\n",
    "line_seen = set() #Duplicate set check\n",
    "\n",
    "for line in fRAW: \n",
    "    if line not in line_seen:\n",
    "        fCLEAN.write(line.replace(' ', '_'))\n",
    "        line_seen.add(line)        \n",
    "        \n",
    "f = open(\"CLEAN.txt\", \"rt\") #reopens CLEAN file to read as f\n",
    "num_lines = sum(1 for line in open('CLEAN.txt')) #finds number of entries\n",
    "\n",
    "########################################################################################\n",
    "training_data = [] #STORES PLAYER DATA IN ARRAY\n",
    "fail = 0 #number of failed attempts\n",
    "notfail = 0 #number of passed attempts\n",
    "total = 0 #total number of attempts = notfail/(notfail+fail)\n",
    "percent_complete = 0 #total percent complete = (notfail+fail)/num_lines\n",
    "Estimated_time = 0 #Estimated time = elapsed_time/percent_complete\n",
    "Remaining_time = 0 #Remaining run time\n",
    "elapsed_time = 0\n",
    "\n",
    "start_time = time.time() #begins program time\n",
    "\n",
    "for x in f: \n",
    "    clear_output(wait=True)\n",
    "    PLAYER = x \n",
    "    print(\"New player name:\", PLAYER) \n",
    "    print(\"Pass Rate:\", round(total*100,1),\"%\", \"| Pass:\",notfail, \"| Fail:\",fail,\"| Total:\",(fail+notfail),\"| Total in File:\", num_lines, \"| Completed:\", round(percent_complete*100,2),\"%\")\n",
    "    print(\"Total Time:\", int(elapsed_time), \"| Estimated Time:\", int(Estimated_time), \"| Remaining Time\", int(Remaining_time))\n",
    "    url = MAIN+PLAYER \n",
    "    print(url) \n",
    "    response = requests.get(url) \n",
    "    data = response.text \n",
    "    try: \n",
    "        if data.find('404 - Page not found') != -1: #== '<!DOCTYPE html><html><head><script src=\"/Criciousand-meth-shake-Exit-be-till-in-ches-Shad\" async></script><title>404 - Page not found</title> <meta charset=\"UTF-8\"/><meta name=\"viewport\" content=\"width=device-width, initial-scale=1\" /><style>body, html{margin: 0; padding: 0; height: 100%; overflow: hidden;}#content{position:absolute; left: 0; right: 0; bottom: 0; top: 0px;}.error-frame{height: 100%;width: 100%;border: 0;}</style></head><body><div id=\"content\"><iframe class=\"error-frame\" src=\"https://www.runescape.com/error404\"></iframe></div><script src=\"//ajax.googleapis.com/ajax/libs/jquery/3.3.1/jquery.min.js\"></script><script type=\"text/javascript\" src=\"https://www.runescape.com/js/rs3/plugins-7.js\"></script><script src=\"https://www.runescape.com/js/rs3/gtm-0.js\"></script></body></html>\\n':\n",
    "            fail += 1\n",
    "            total = notfail/(notfail+fail)\n",
    "            percent_complete = (notfail+fail)/num_lines\n",
    "            elapsed_time = time.time() - start_time\n",
    "            Estimated_time = elapsed_time/percent_complete\n",
    "            Remaining_time = Estimated_time-elapsed_time\n",
    "            with open(\"NAMEFAIL.txt\", \"a\") as NAMEFAILS:\n",
    "                NAMEFAILS.write(PLAYER)\n",
    "        else:\n",
    "            r = str.split(data) \n",
    "            DATAarray = [[float(n) for n in row.split(\",\")] for row in r] #Convert STRING of DATA into ARRAY\n",
    "            training_data.append([PLAYER, DATAarray])\n",
    "            notfail += 1\n",
    "            total = notfail/(notfail+fail)\n",
    "            percent_complete = (notfail+fail)/num_lines\n",
    "            elapsed_time = time.time() - start_time\n",
    "            Estimated_time = elapsed_time/percent_complete\n",
    "            Remaining_time = Estimated_time-elapsed_time\n",
    "    except: \n",
    "        print(\"ERROR but will continue\")\n"
   ]
  },
  {
   "cell_type": "code",
   "execution_count": 2,
   "metadata": {},
   "outputs": [],
   "source": [
    "with open(\"PLAYERSHISCORES.pickle\", \"wb\") as PLAYERS_pickle: #STORES DATA AS .PICKLE FORMAT\n",
    "    pickle.dump(training_data, PLAYERS_pickle)"
   ]
  },
  {
   "cell_type": "code",
   "execution_count": 3,
   "metadata": {},
   "outputs": [
    {
     "data": {
      "text/plain": [
       "82560579.0"
      ]
     },
     "execution_count": 3,
     "metadata": {},
     "output_type": "execute_result"
    }
   ],
   "source": [
    "PLAYER_DATA = pickle.load(open('PLAYERSHISCORES.pickle', 'rb')) #TEST OPEN\n",
    "\n",
    "PLAYER_DATA[25][1][0][2] #TEST RECALL"
   ]
  },
  {
   "cell_type": "code",
   "execution_count": null,
   "metadata": {},
   "outputs": [],
   "source": []
  }
 ],
 "metadata": {
  "kernelspec": {
   "display_name": "Python 3",
   "language": "python",
   "name": "python3"
  },
  "language_info": {
   "codemirror_mode": {
    "name": "ipython",
    "version": 3
   },
   "file_extension": ".py",
   "mimetype": "text/x-python",
   "name": "python",
   "nbconvert_exporter": "python",
   "pygments_lexer": "ipython3",
   "version": "3.8.0"
  }
 },
 "nbformat": 4,
 "nbformat_minor": 4
}
